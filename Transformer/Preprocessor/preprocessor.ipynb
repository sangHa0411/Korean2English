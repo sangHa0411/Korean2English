{
 "cells": [
  {
   "cell_type": "code",
   "execution_count": 1,
   "id": "56c6f576-a7a8-48e5-b061-4aa518fbee3d",
   "metadata": {},
   "outputs": [],
   "source": [
    "import torch\n",
    "import torch.nn as nn\n",
    "import torch.nn.functional as F\n",
    "import torch.optim as optim"
   ]
  },
  {
   "cell_type": "code",
   "execution_count": 2,
   "id": "7b805970-4847-42bf-9279-9e770c5c1bf0",
   "metadata": {},
   "outputs": [],
   "source": [
    "from torch.utils.data import Dataset\n",
    "from torch.utils.data import DataLoader"
   ]
  },
  {
   "cell_type": "code",
   "execution_count": 3,
   "id": "f5ffd506-afcb-48f7-924f-7bc4979ced19",
   "metadata": {},
   "outputs": [],
   "source": [
    "import sys\n",
    "import numpy as np\n",
    "import pandas as pd\n",
    "import random\n",
    "import collections"
   ]
  },
  {
   "cell_type": "code",
   "execution_count": 16,
   "id": "4d51e3c5-66f5-4aa8-a6a1-81fcb2276c6e",
   "metadata": {},
   "outputs": [],
   "source": [
    "import re"
   ]
  },
  {
   "cell_type": "code",
   "execution_count": 33,
   "id": "15a28b5d-4ec7-4685-a979-22ba25539ece",
   "metadata": {},
   "outputs": [],
   "source": [
    "from nltk.tokenize import word_tokenize"
   ]
  },
  {
   "cell_type": "markdown",
   "id": "851b8bf8-94dd-45cb-8b16-ee0ca1b094dc",
   "metadata": {},
   "source": [
    "## Load Data"
   ]
  },
  {
   "cell_type": "code",
   "execution_count": 12,
   "id": "31a8b153-8c3b-4a58-b473-80a5416baf7c",
   "metadata": {},
   "outputs": [],
   "source": [
    "data_path = '../../../Data/'"
   ]
  },
  {
   "cell_type": "code",
   "execution_count": 14,
   "id": "e68f7823-055d-42af-a929-3c950f777cb9",
   "metadata": {},
   "outputs": [],
   "source": [
    "data = pd.read_excel(data_path+'한국어_대화체_번역.xlsx' , engine='openpyxl')"
   ]
  },
  {
   "cell_type": "code",
   "execution_count": 17,
   "id": "eca39591-bf5f-4bb0-b8da-6f90b2845390",
   "metadata": {},
   "outputs": [
    {
     "data": {
      "text/html": [
       "<div>\n",
       "<style scoped>\n",
       "    .dataframe tbody tr th:only-of-type {\n",
       "        vertical-align: middle;\n",
       "    }\n",
       "\n",
       "    .dataframe tbody tr th {\n",
       "        vertical-align: top;\n",
       "    }\n",
       "\n",
       "    .dataframe thead th {\n",
       "        text-align: right;\n",
       "    }\n",
       "</style>\n",
       "<table border=\"1\" class=\"dataframe\">\n",
       "  <thead>\n",
       "    <tr style=\"text-align: right;\">\n",
       "      <th></th>\n",
       "      <th>원문</th>\n",
       "      <th>번역문</th>\n",
       "    </tr>\n",
       "  </thead>\n",
       "  <tbody>\n",
       "    <tr>\n",
       "      <th>0</th>\n",
       "      <td>이번 신제품 출시에 대한 시장의 반응은 어떤가요?</td>\n",
       "      <td>How is the market's reaction to the newly rele...</td>\n",
       "    </tr>\n",
       "    <tr>\n",
       "      <th>1</th>\n",
       "      <td>판매량이 지난번 제품보다 빠르게 늘고 있습니다.</td>\n",
       "      <td>The sales increase is faster than the previous...</td>\n",
       "    </tr>\n",
       "    <tr>\n",
       "      <th>2</th>\n",
       "      <td>그렇다면 공장에 연락해서 주문량을 더 늘려야겠네요.</td>\n",
       "      <td>Then, we'll have to call the manufacturer and ...</td>\n",
       "    </tr>\n",
       "    <tr>\n",
       "      <th>3</th>\n",
       "      <td>네, 제가 연락해서 주문량을 2배로 늘리겠습니다.</td>\n",
       "      <td>Sure, I'll make a call and double the volume o...</td>\n",
       "    </tr>\n",
       "    <tr>\n",
       "      <th>4</th>\n",
       "      <td>지난 회의 마지막에 논의했던 안건을 다시 볼까요?</td>\n",
       "      <td>Shall we take a look at the issues we discusse...</td>\n",
       "    </tr>\n",
       "  </tbody>\n",
       "</table>\n",
       "</div>"
      ],
      "text/plain": [
       "                             원문  \\\n",
       "0   이번 신제품 출시에 대한 시장의 반응은 어떤가요?   \n",
       "1    판매량이 지난번 제품보다 빠르게 늘고 있습니다.   \n",
       "2  그렇다면 공장에 연락해서 주문량을 더 늘려야겠네요.   \n",
       "3   네, 제가 연락해서 주문량을 2배로 늘리겠습니다.   \n",
       "4   지난 회의 마지막에 논의했던 안건을 다시 볼까요?   \n",
       "\n",
       "                                                 번역문  \n",
       "0  How is the market's reaction to the newly rele...  \n",
       "1  The sales increase is faster than the previous...  \n",
       "2  Then, we'll have to call the manufacturer and ...  \n",
       "3  Sure, I'll make a call and double the volume o...  \n",
       "4  Shall we take a look at the issues we discusse...  "
      ]
     },
     "execution_count": 17,
     "metadata": {},
     "output_type": "execute_result"
    }
   ],
   "source": [
    "data[['원문' , '번역문']].head()"
   ]
  },
  {
   "cell_type": "code",
   "execution_count": 19,
   "id": "fad7f221-b2af-482c-ac6e-670f812ce156",
   "metadata": {},
   "outputs": [],
   "source": [
    "kor_data = data['원문']\n",
    "en_data = data['번역문']"
   ]
  },
  {
   "cell_type": "code",
   "execution_count": 84,
   "id": "72e7220a-eab7-45e9-9d01-551c08c103d5",
   "metadata": {},
   "outputs": [],
   "source": [
    "class VocabSet :\n",
    "    \n",
    "    def __init__(self, th=3) :\n",
    "        \n",
    "        self.th = th\n",
    "        \n",
    "    def tokens(self, data) :\n",
    "        \n",
    "        vocab_set = collections.Counter()\n",
    "        \n",
    "        for i , sen in enumerate(data) :\n",
    "            tokens = word_tokenize(sen.lower())\n",
    "            vocab_set.update(tokens)\n",
    "                \n",
    "        vocab_dict = dict(vocab_set)\n",
    "        valid_tok = []\n",
    "        \n",
    "        for tok in vocab_dict.keys() :\n",
    "            count = vocab_dict[tok]\n",
    "            tok = tok\n",
    "            \n",
    "            if (count > self.th) and tok.isalpha() :\n",
    "                valid_tok.append(tok)\n",
    "                \n",
    "        random.shuffle(valid_tok)\n",
    "        valid_tok.append('utk')\n",
    "                \n",
    "        return dict(zip(valid_tok , range(1,len(valid_tok)+1)))\n",
    "        "
   ]
  },
  {
   "cell_type": "code",
   "execution_count": 94,
   "id": "da57611f-f671-440f-ae3c-b086879cb233",
   "metadata": {},
   "outputs": [],
   "source": [
    "class Encoder :\n",
    "    \n",
    "    def __init__(self, data, token_dict) :\n",
    "        \n",
    "        self.data = data\n",
    "        self.token_dict = token_dict\n",
    "        \n",
    "        self.sos = 0\n",
    "        self.eos = len(token_dict) + 1\n",
    "        \n",
    "    def check(self, tok) :\n",
    "        if tok in self.token_dict :\n",
    "            return True\n",
    "        else :\n",
    "            return False\n",
    "        \n",
    "    def encode_sen(self, sen) :\n",
    "        tokens = word_tokenize(sen)\n",
    "        encoded = []\n",
    "        \n",
    "        for tok in tokens :\n",
    "            if self.check(tok) :\n",
    "                idx = self.token_dict[tok]\n",
    "            else :\n",
    "                idx = self.token_dict['utk']\n",
    "            encoded.append(idx)\n",
    "            \n",
    "        encoded = [self.sos] + encoded + [self.eos]\n",
    "            \n",
    "        return encoded\n",
    "    \n",
    "    def encode(self) :\n",
    "        encoded = []\n",
    "        \n",
    "        for i , sen in enumerate(self.data) :\n",
    "            encoded_sen = self.encode_sen(sen)\n",
    "            encoded.append(encoded_sen)\n",
    "        \n",
    "        return encoded"
   ]
  },
  {
   "cell_type": "code",
   "execution_count": null,
   "id": "0dea75e1-aa69-485a-aea5-8f2e0c3c7207",
   "metadata": {},
   "outputs": [],
   "source": []
  }
 ],
 "metadata": {
  "kernelspec": {
   "display_name": "Python 3",
   "language": "python",
   "name": "python3"
  },
  "language_info": {
   "codemirror_mode": {
    "name": "ipython",
    "version": 3
   },
   "file_extension": ".py",
   "mimetype": "text/x-python",
   "name": "python",
   "nbconvert_exporter": "python",
   "pygments_lexer": "ipython3",
   "version": "3.8.5"
  }
 },
 "nbformat": 4,
 "nbformat_minor": 5
}
