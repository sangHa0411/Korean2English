{
 "cells": [
  {
   "cell_type": "code",
   "execution_count": 1,
   "id": "ded72692-f3da-4d3f-9ae8-4c0f28f03c9a",
   "metadata": {},
   "outputs": [],
   "source": [
    "import torch\n",
    "import torch.nn as nn\n",
    "import torch.nn.functional as F\n",
    "import torch.optim as optim"
   ]
  },
  {
   "cell_type": "code",
   "execution_count": 2,
   "id": "7e7b81f0-1a6f-4df8-972b-d624717b72ad",
   "metadata": {},
   "outputs": [],
   "source": [
    "from torch.utils.data import Dataset\n",
    "from torch.utils.data import DataLoader"
   ]
  },
  {
   "cell_type": "code",
   "execution_count": 3,
   "id": "6b51bcd0-7e36-4d66-a92e-2601d335e61b",
   "metadata": {},
   "outputs": [],
   "source": [
    "import sys\n",
    "import numpy as np\n",
    "import pandas as pd\n",
    "import random\n",
    "import collections"
   ]
  },
  {
   "cell_type": "code",
   "execution_count": 4,
   "id": "030a3e87-bb77-4400-b9ec-843780d266af",
   "metadata": {},
   "outputs": [],
   "source": [
    "import re"
   ]
  },
  {
   "cell_type": "code",
   "execution_count": 5,
   "id": "1794dcdf-3606-44c6-bb5d-e7a337093f7b",
   "metadata": {},
   "outputs": [
    {
     "name": "stdout",
     "output_type": "stream",
     "text": [
      "importing Jupyter notebook from preprocessor.ipynb\n"
     ]
    }
   ],
   "source": [
    "import import_ipynb\n",
    "import preprocessor"
   ]
  },
  {
   "cell_type": "code",
   "execution_count": 6,
   "id": "174dd7f6-9549-4e47-873a-2f03b4e67481",
   "metadata": {},
   "outputs": [],
   "source": [
    "from nltk.tokenize import word_tokenize"
   ]
  },
  {
   "cell_type": "code",
   "execution_count": 7,
   "id": "1481942a-651e-4b42-9873-37e4a2c2db0b",
   "metadata": {},
   "outputs": [],
   "source": [
    "from tqdm import tqdm"
   ]
  },
  {
   "cell_type": "markdown",
   "id": "94ef754e-fc52-4e03-8a53-94daa4011d1f",
   "metadata": {},
   "source": [
    "## Data"
   ]
  },
  {
   "cell_type": "code",
   "execution_count": 8,
   "id": "0d3f3baa-b417-4428-b783-c324df79b3f3",
   "metadata": {},
   "outputs": [],
   "source": [
    "dir_path = '../../../Data/'\n",
    "data = pd.read_excel(dir_path + '한국어_대화체_번역.xlsx' , engine='openpyxl')"
   ]
  },
  {
   "cell_type": "code",
   "execution_count": 9,
   "id": "7e9ea561-b5b6-4c53-b121-cc2ff56aa337",
   "metadata": {},
   "outputs": [
    {
     "data": {
      "text/html": [
       "<div>\n",
       "<style scoped>\n",
       "    .dataframe tbody tr th:only-of-type {\n",
       "        vertical-align: middle;\n",
       "    }\n",
       "\n",
       "    .dataframe tbody tr th {\n",
       "        vertical-align: top;\n",
       "    }\n",
       "\n",
       "    .dataframe thead th {\n",
       "        text-align: right;\n",
       "    }\n",
       "</style>\n",
       "<table border=\"1\" class=\"dataframe\">\n",
       "  <thead>\n",
       "    <tr style=\"text-align: right;\">\n",
       "      <th></th>\n",
       "      <th>원문</th>\n",
       "      <th>번역문</th>\n",
       "    </tr>\n",
       "  </thead>\n",
       "  <tbody>\n",
       "    <tr>\n",
       "      <th>0</th>\n",
       "      <td>이번 신제품 출시에 대한 시장의 반응은 어떤가요?</td>\n",
       "      <td>How is the market's reaction to the newly rele...</td>\n",
       "    </tr>\n",
       "    <tr>\n",
       "      <th>1</th>\n",
       "      <td>판매량이 지난번 제품보다 빠르게 늘고 있습니다.</td>\n",
       "      <td>The sales increase is faster than the previous...</td>\n",
       "    </tr>\n",
       "    <tr>\n",
       "      <th>2</th>\n",
       "      <td>그렇다면 공장에 연락해서 주문량을 더 늘려야겠네요.</td>\n",
       "      <td>Then, we'll have to call the manufacturer and ...</td>\n",
       "    </tr>\n",
       "    <tr>\n",
       "      <th>3</th>\n",
       "      <td>네, 제가 연락해서 주문량을 2배로 늘리겠습니다.</td>\n",
       "      <td>Sure, I'll make a call and double the volume o...</td>\n",
       "    </tr>\n",
       "    <tr>\n",
       "      <th>4</th>\n",
       "      <td>지난 회의 마지막에 논의했던 안건을 다시 볼까요?</td>\n",
       "      <td>Shall we take a look at the issues we discusse...</td>\n",
       "    </tr>\n",
       "  </tbody>\n",
       "</table>\n",
       "</div>"
      ],
      "text/plain": [
       "                             원문  \\\n",
       "0   이번 신제품 출시에 대한 시장의 반응은 어떤가요?   \n",
       "1    판매량이 지난번 제품보다 빠르게 늘고 있습니다.   \n",
       "2  그렇다면 공장에 연락해서 주문량을 더 늘려야겠네요.   \n",
       "3   네, 제가 연락해서 주문량을 2배로 늘리겠습니다.   \n",
       "4   지난 회의 마지막에 논의했던 안건을 다시 볼까요?   \n",
       "\n",
       "                                                 번역문  \n",
       "0  How is the market's reaction to the newly rele...  \n",
       "1  The sales increase is faster than the previous...  \n",
       "2  Then, we'll have to call the manufacturer and ...  \n",
       "3  Sure, I'll make a call and double the volume o...  \n",
       "4  Shall we take a look at the issues we discusse...  "
      ]
     },
     "execution_count": 9,
     "metadata": {},
     "output_type": "execute_result"
    }
   ],
   "source": [
    "data[['원문','번역문']].head()"
   ]
  },
  {
   "cell_type": "code",
   "execution_count": 10,
   "id": "4fe14d6c-1b6b-4094-972e-d5afa9b25ec6",
   "metadata": {},
   "outputs": [],
   "source": [
    "en_data = data['번역문']"
   ]
  },
  {
   "cell_type": "code",
   "execution_count": 11,
   "id": "af8f1688-bf9a-412c-aca4-99a44a410e89",
   "metadata": {},
   "outputs": [],
   "source": [
    "vs = preprocessor.VocabSet(word_tokenize)\n",
    "en_tokens = vs.tokens(en_data)"
   ]
  },
  {
   "cell_type": "code",
   "execution_count": 12,
   "id": "ab373bf7-2fed-4c00-aafa-5b4b588ff6fe",
   "metadata": {},
   "outputs": [],
   "source": [
    "en_encoder = preprocessor.Encoder(en_data , word_tokenize , en_tokens)\n",
    "en_encoded = en_encoder.encode()"
   ]
  },
  {
   "cell_type": "markdown",
   "id": "7a404536-64ec-4e47-9e3a-bcfbfc78c8b5",
   "metadata": {},
   "source": [
    "## Context Data"
   ]
  },
  {
   "cell_type": "code",
   "execution_count": 24,
   "id": "b1f303f6-6ef2-4e81-a634-c68dd178820e",
   "metadata": {},
   "outputs": [],
   "source": [
    "con_size = 11\n",
    "\n",
    "en_word2vec = []"
   ]
  },
  {
   "cell_type": "code",
   "execution_count": 25,
   "id": "84d8b5d7-30d4-4948-823f-32c73b2da840",
   "metadata": {},
   "outputs": [
    {
     "name": "stderr",
     "output_type": "stream",
     "text": [
      "100%|██████████| 100000/100000 [00:01<00:00, 75183.86it/s]\n"
     ]
    }
   ],
   "source": [
    "for i , sen in enumerate(tqdm(en_encoded)) :\n",
    "    \n",
    "    if len(sen) < con_size :\n",
    "        continue\n",
    "        \n",
    "    for j in range(len(sen) - con_size + 1) :\n",
    "        en_con = sen[j:j+con_size]\n",
    "        en_word2vec.append(en_con)\n",
    "        \n",
    "en_wordvec = random.shuffle(en_word2vec)"
   ]
  },
  {
   "cell_type": "code",
   "execution_count": 27,
   "id": "688d94bf-039e-49b8-967e-2245f44eefeb",
   "metadata": {},
   "outputs": [],
   "source": [
    "en_word2vec = np.array(en_word2vec)\n",
    "\n",
    "en_cen = en_word2vec[:,int(con_size/2)]\n",
    "en_neigh = np.hstack([en_word2vec[:,:int(con_size/2)],en_word2vec[:,int(con_size/2)+1:]])"
   ]
  },
  {
   "cell_type": "code",
   "execution_count": 29,
   "id": "55e758b4-f73a-403b-a8fc-9fa4523b4ad8",
   "metadata": {},
   "outputs": [
    {
     "name": "stdout",
     "output_type": "stream",
     "text": [
      "Data Shape \n",
      "\n",
      "Center Shape : (704707,)\n",
      "Neighbor Shape : (704707, 10)\n"
     ]
    }
   ],
   "source": [
    "print('Data Shape \\n')\n",
    "print('Center Shape : {}'.format(en_cen.shape))\n",
    "print('Neighbor Shape : {}'.format(en_neigh.shape))"
   ]
  },
  {
   "cell_type": "markdown",
   "id": "d56e86c2-dbca-4d0d-ac21-4dde0a5d7355",
   "metadata": {},
   "source": [
    "## Word2Vec Model"
   ]
  },
  {
   "cell_type": "code",
   "execution_count": null,
   "id": "82f0b06f-1494-4e5c-9e19-f5554b2fb869",
   "metadata": {},
   "outputs": [],
   "source": []
  }
 ],
 "metadata": {
  "kernelspec": {
   "display_name": "Python 3",
   "language": "python",
   "name": "python3"
  },
  "language_info": {
   "codemirror_mode": {
    "name": "ipython",
    "version": 3
   },
   "file_extension": ".py",
   "mimetype": "text/x-python",
   "name": "python",
   "nbconvert_exporter": "python",
   "pygments_lexer": "ipython3",
   "version": "3.8.5"
  }
 },
 "nbformat": 4,
 "nbformat_minor": 5
}
