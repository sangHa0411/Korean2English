{
 "cells": [
  {
   "cell_type": "code",
   "execution_count": 4,
   "id": "f5ffd506-afcb-48f7-924f-7bc4979ced19",
   "metadata": {},
   "outputs": [],
   "source": [
    "import sys\n",
    "import numpy as np\n",
    "import pandas as pd\n",
    "import random\n",
    "import collections\n",
    "import re\n",
    "from nltk.tokenize import word_tokenize"
   ]
  },
  {
   "cell_type": "code",
   "execution_count": 5,
   "id": "72e7220a-eab7-45e9-9d01-551c08c103d5",
   "metadata": {},
   "outputs": [],
   "source": [
    "class VocabSet :\n",
    "    \n",
    "    def __init__(self, tokenize_fn , th=3) :\n",
    "        \n",
    "        self.th = th\n",
    "        self.tokenize = tokenize_fn\n",
    "        \n",
    "    def tokens(self, data) :\n",
    "        \n",
    "        vocab_set = collections.Counter()\n",
    "        \n",
    "        for i , sen in enumerate(data) :\n",
    "            tokens = self.tokenize(sen.lower())\n",
    "            vocab_set.update(tokens)\n",
    "                \n",
    "        vocab_dict = dict(vocab_set)\n",
    "        valid_tok = []\n",
    "        \n",
    "        for tok in vocab_dict.keys() :\n",
    "            count = vocab_dict[tok]\n",
    "            tok = tok\n",
    "            if (count > self.th) and (re.search('[0-9]' , tok) == None):\n",
    "                valid_tok.append(tok)\n",
    "                \n",
    "        random.shuffle(valid_tok)\n",
    "        valid_tok.append('utk')\n",
    "                \n",
    "        return dict(zip(valid_tok , range(1,len(valid_tok)+1)))\n",
    "        "
   ]
  },
  {
   "cell_type": "code",
   "execution_count": 6,
   "id": "da57611f-f671-440f-ae3c-b086879cb233",
   "metadata": {},
   "outputs": [],
   "source": [
    "class Encoder :\n",
    "    \n",
    "    def __init__(self, data, tokenize_fn , token_dict) :\n",
    "        \n",
    "        self.data = data\n",
    "        self.tokenize = tokenize_fn\n",
    "        self.token_dict = token_dict\n",
    "        \n",
    "        self.sos = len(token_dict) + 1 # Start Token\n",
    "        self.eos = len(token_dict) + 2 # End Token\n",
    "        self.v_size = len(token_dict) + 3 # 0 , Start Token , End Token\n",
    "        \n",
    "    def get_size(self) :\n",
    "        \n",
    "        return self.v_size\n",
    "        \n",
    "    def check(self, tok) :\n",
    "        if tok in self.token_dict :\n",
    "            return True\n",
    "        else :\n",
    "            return False\n",
    "        \n",
    "    def encode_sen(self, sen) :\n",
    "        tokens = self.tokenize(sen)\n",
    "        encoded = []\n",
    "        \n",
    "        for tok in tokens :\n",
    "            if self.check(tok) :\n",
    "                idx = self.token_dict[tok]\n",
    "            else :\n",
    "                idx = self.token_dict['utk']\n",
    "            encoded.append(idx)\n",
    "            \n",
    "        encoded = [self.sos] + encoded + [self.eos]\n",
    "            \n",
    "        return encoded\n",
    "    \n",
    "    def encode(self) :\n",
    "        encoded = []\n",
    "        \n",
    "        for i , sen in enumerate(self.data) :\n",
    "            encoded_sen = self.encode_sen(sen.lower())\n",
    "            encoded.append(encoded_sen)\n",
    "        \n",
    "        return encoded"
   ]
  },
  {
   "cell_type": "code",
   "execution_count": null,
   "id": "0dea75e1-aa69-485a-aea5-8f2e0c3c7207",
   "metadata": {},
   "outputs": [],
   "source": []
  },
  {
   "cell_type": "code",
   "execution_count": null,
   "id": "84e965ea-1bf2-4586-8196-c9bbac11db16",
   "metadata": {},
   "outputs": [],
   "source": []
  }
 ],
 "metadata": {
  "kernelspec": {
   "display_name": "Python 3",
   "language": "python",
   "name": "python3"
  },
  "language_info": {
   "codemirror_mode": {
    "name": "ipython",
    "version": 3
   },
   "file_extension": ".py",
   "mimetype": "text/x-python",
   "name": "python",
   "nbconvert_exporter": "python",
   "pygments_lexer": "ipython3",
   "version": "3.8.5"
  }
 },
 "nbformat": 4,
 "nbformat_minor": 5
}
